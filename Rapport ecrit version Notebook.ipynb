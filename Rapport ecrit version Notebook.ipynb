{
 "cells": [
  {
   "cell_type": "markdown",
   "metadata": {},
   "source": [
    "CARTON Lorris\n",
    "\n",
    "ARROUS Clément\n",
    "\n",
    "BOUKHALFI Mourad\n",
    "\n",
    "# ARE GRAVITE\n",
    "\n",
    "# DETECTION D'EXOPLANETE : LES METHODE DE DETECTION PAR VITESSE RADIALE ET DU TRANSIT.\n",
    "\n",
    "![image page de garde](http://system.solaire.free.fr/exoplanete5.jpg)\n"
   ]
  },
  {
   "cell_type": "markdown",
   "metadata": {},
   "source": [
    "\n",
    "## Sommaire\n",
    "- Introduction\n",
    "- I) Organisation des systèmes stellaires\n",
    "- II) Les vitesses radiales\n",
    "- III) Le transit\n",
    "- IV) Code Informatique\n",
    "- Conclusion\n",
    "- Sources"
   ]
  },
  {
   "cell_type": "markdown",
   "metadata": {},
   "source": [
    "# INTRODUCTION :\n",
    "\n",
    "   Tout au long de cet atelier de recherche, nous avons réalisé un travail sur les méthodes de détection d’exoplanètes. Dans un premier temps, nous avons commencé par nous renseigner sur le sujet grâce à l'article de François Bouchy. \n",
    "\n",
    "   Aujourd’hui, la détection d’exoplanète est un secteur en plein essor. En effet, en 2005, les scientifiques avaient détectés 170 planètes extrasolaires contre 3605 le 22 mars 2017. On voit que l'explosion du nombre d’exoplanètes détectées a explosé dû à l’amélioration et à la précision des techniques. Ainsi, nous avons découvert qu'il existe principalement deux méthodes pour détecter une exoplanète : les vitesses radiales et le transit.\n",
    "\n",
    "   Au cours de cet ARE, nous avons put nous servir de différents outils pour réaliser des mesures tel que salsaJ. Nous avons, de plus, travaillé sur l'élaboration d'un code en python afin de simuler un système étoile-exoplanète.\n",
    "\n",
    "   Nous allons chercher à étudier le cas d'une exoplanète isolée avec son étoile afin de simplifier les explications et les résultats en tentant de répondre à la problématique suivante : **_Comment détecte-t-on une exoplanète ?_**\n",
    "   \n",
    "Nous parlerons dans un premier temps de l'organisation des systèmes exoplanète-étoile et nous fixerons les grandeurs importantes, ensuite nous parleront de la méthode de détection par vitesse radiale puis enfin, nous aborderont le thème du transit."
   ]
  },
  {
   "cell_type": "markdown",
   "metadata": {},
   "source": [
    "# I) Organisation des systèmes stellaires :\n",
    "\n",
    "Tout système stellaire est régit par les lois de Newton et de Kepler. D'après la troisième lois de Newton, la planète et l'étoile subissent des interaction opposées de même force. \n",
    "\tL'étoile et la planète interagissent entre elle ce qui va engendrer un déplacement de l'étoile autours du centre de masse. Le centre de masse correspond au centre de gravité du système. \n",
    "\tC'est autour de ce point que tourne l'exoplanète et l'étoile. On considérera que ces étoiles sont infiniment éloignées de nous et que leurs vitesse est constante. Ainsi nous pourrons partir du postula que le centre de masse ne bouge pas par rapport a nous.\n",
    "\n",
    "(Voir rapport ecrit version open office pour le schema)\n",
    "\n"
   ]
  },
  {
   "cell_type": "markdown",
   "metadata": {},
   "source": [
    "Plusieurs grandeurs interviennent dans les équations régissant ces mouvements :\n",
    "\n",
    "- La distance planète -> centre de masse,\n",
    "- La masse de la planète\n",
    "- La masse de l'étoile \n",
    "- Les forces (Force étoile/exoplanète et Force exoplanète/étoile)."
   ]
  },
  {
   "cell_type": "markdown",
   "metadata": {},
   "source": [
    "# II) Les vitesses radiales\n",
    "\n",
    "![vitesse radiales](http://www.astrosurf.com/rondi/harps/img/image005.jpg)\n",
    "\n",
    "Le schéma ci dessus illustre la méthode de détection des vitesse radiales. On utilise l'effet Doppler-Fizeau affin de détecter la présence ou non d'une exoplanète. Cela consiste en un décalage des ondes émises par un émetteur en fonction de son déplacement par rapport a un récepteur. Ici l'émetteur étant l'étoile et le récepteur étant notre télescope sur Terre. \n",
    "\n",
    "Dans un premier temps, nous avons précédemment définis que le centre de masse ne bouge pas par rapport a notre position dans l'espace. De plus nous avons aussi vu que grâce a la troisième loi de Newton, l'étoile est en déplacement par rapport au centre de masse du système . Soit elle s’éloigne de nous, soit elle se rapproche de nous tout en tournant autours de son centre de masse. Il y a donc un décalage Doppler en fonction de l'éloignement ou non de l'étoile par rapport a nous.\n",
    "\n",
    "En utilisant Salsa j, on a pu ouvrir les fichiers images pris tous les jours et les assembler afin de réaliser une animation. A partir de cette animation on a constaté un déplacement vers la gauche (RED SHIFT).\n",
    "Ensuite en utilisant les spectres sous format data a l’aide de Salsa j on trace un trait horizontale tout le long du spectre puis toujours grâce aux outils de Salsa j on coupe le spectre et on constate deux raies très marquées très peu distancées, ces deux raies ont pour valeur de longueur d’onde correspondant  5890A et 5896A environ.\n",
    "\n",
    "Toujours via Salsa j, en utilisant « Liste » on obtient un tableau de la fonction Y = f(X) et on comparant les valeurs précédentes avec le tableau on détermine précisément les valeurs des deux raies précédentes, correspondant au doublet du sodium Na1 = 5889,950 et Na2=5895,924. Ce faible décalage entre les valeurs précédentes et celles du tableau sont due à l’effet Doppler.\n",
    "\n",
    "\n",
    "L’effet Doppler permet également de déterminer la vitesse radiale Ve en utilisant la première raie selon la relation suivante : VE = c. ( Δλ / λ )\n",
    "La détermination de la masse « m » de l’astre compagnon de l’étoile de masse « M » peut se faire de deux manières différentes. D’une part la manière classique demeure l’utilisation des lois de la mécanique : r (R + r)2 = G M T2 / 4 π^2 ,avec un enchaînement de calcul, on parvient à un déterminer R et r et comme m=(R/r)*M on détermine la masse.\n",
    "\n",
    "L’autre méthode moins souvent utilisée fait intervenir l’effet Doppler, en effet on peut utiliser l’effet Doppler Fizeau pour détecter une exoplanète géante en prenant en compte des milliers de raies du spectre de l’étoile pour atteindre ce type d’ordre de grandeur. La masse d’une exoplanète même géante demeure très inférieur à celle de l’étoile, R est donc négligeable par rapport a r, l’expression de la masse sera donc plus simple m = K. V. T 1/3. M 2/3. \n",
    "\n",
    "Cette méthode présente cependant certaines limite, actuellement (2006) on ne peut pas détecter expérimentalement par effet Doppler-Fizeau une planète tellurique en raison d’une vitesse radiale trop faible. \n",
    "\n",
    "\n",
    "On peut donc observer quelque chose de ce genre en cas de redshift (décalage vers le rouge).\n",
    "\n",
    "![doppler](http://a395.idata.over-blog.com/4/92/32/74/doppler-raie-spectrale.PNG)"
   ]
  },
  {
   "cell_type": "markdown",
   "metadata": {},
   "source": [
    "# III) Le Transit.\n",
    " \n",
    "Dans cette partie nous chercherons a vous expliquer commet fonctionne cette méthode du transit (a travers une exercice du site fr.euhou.net et de salsaJ).\n",
    "\n",
    "Le transit est un phénomène observable depuis la terre. Cette technique nous permet d'obtenir le diamètre et le volume de la planète. Couplé à la technique des vitesses radiales, on peut obtenir sa masse et sa densité. Ici, nous chercherons seulement a détecter une exoplanète grâce a cette méthode. Pour cela il faut relever l'intensité lumineuse d'une étoile au cours du temps.\n",
    "\n",
    "![transit](http://aim.obspm.fr/Astro/Rastro/TP/TP04/images/transit_planet.jpg)"
   ]
  },
  {
   "cell_type": "markdown",
   "metadata": {},
   "source": [
    "Suite au travail de mesure sur salsaJ, nous avons obtenus les résultats suivants. Ces résultats ont été calculées suite a la  normalisation autour de zéro des valeurs des intensités de chaque étoile pour obtenir une échelle identique. Cette normalisation consiste à calculer la moyenne de l'intensité lumineuse pour chaque étoile et ensuite effectuer la différence entre la valeur mesurée de l'intensité et la valeur moyenne de la série. Cette méthode est utilisée pour les étoiles 2 et 3. La valeur moyenne de la série de l'étoile 1 est calculée avec les 7 premières valeurs de l'intensité car cette dernière varie énormément au cours du temps alors que dans le cas des étoiles 2 et 3 l'intensité est plutôt stable. "
   ]
  },
  {
   "cell_type": "markdown",
   "metadata": {},
   "source": [
    "Étoile 1(bleue) | Étoile 2 (rouge)| Étoile 3 (verte)\n",
    "  ------------- | -------------   | -------------\n",
    " 312,45  | 23,4    | 60.05\n",
    "  188,45  | 21,4    | -26,95\n",
    " 345,45  | 36,4   | -22,95\n",
    "  259,45  | -54,6    | 93,05\n",
    " -16,55  | -131,6    | -38,95\n",
    "  35,45  | 60,4    | 105,05\n",
    "  350,45  | -87,6   | 24,05\n",
    " 384,45  | -154,6    | 333,05\n",
    "  -131,55 | -32,6    | -114,95\n",
    "  -530,55  | -37,6   | -74,95\n",
    "  -546,55  | 145,4    | -76,95\n",
    "  -525,55  | 25,4   | -23,95\n",
    "  -452,55  | -19,6    | 53,05\n",
    "  -489,55  | -82,6    | 33,05\n",
    "  -186,55  | 78,4    | 45,05\n",
    "  159,45  | 83,4    | -127,95\n",
    "  87,45  | -102,6    | -11,95\n",
    "  223,45  | 62,4    | -272,95\n",
    "  197,45  | 87,4    | -236,95\n",
    "  335,45  | 49,4    | 283,05"
   ]
  },
  {
   "cell_type": "markdown",
   "metadata": {},
   "source": [
    "L'objectif étant de construire un graphique a partir de ces valeurs afin de déduire visuellement quelle est l'étoile\n",
    "dont l'intensité a une plus forte variation.\n",
    "\n",
    "(Voir rapport écrit version open office pour le graphique)\n",
    "\n",
    "On constate que l'une des planètes perd énormément de luminosité par rapport aux autres. C'est dut au passage d'une planète devant son étoile qui fait chuter la luminosité que l'on perçoit depuis la terre. Cette technique nous permet donc de dire si il existe une planète qui orbite autours d'une étoile. L'inverse n'étant pas vrai. Il faut en effet avoir un peu de chance pour avoir une planète dont le plan de son orbite est parfaitement aligné notre ligne de visée, ce qui nous permet d'observer et de mesurer un transit."
   ]
  },
  {
   "cell_type": "markdown",
   "metadata": {},
   "source": [
    "# IV) Code Informatique\n",
    "\n",
    "Nous avons donc également réalisé un code informatique en python afin de simuler un système étoile-exoplanète. Nous avons choisis de représenter le système de l’exoplanète HD 189733b ayant une période de 2,2 jours terrestres et se situant a 60 Années Lumières de notre planète.\n",
    "\n"
   ]
  },
  {
   "cell_type": "code",
   "execution_count": null,
   "metadata": {
    "collapsed": true
   },
   "outputs": [],
   "source": [
    "import numpy as np\n",
    "import matplotlib.pyplot as plt\n",
    "from matplotlib import animation\n",
    "\n",
    "\n",
    "\n",
    "\n",
    "#Creation des cercles representant le centre de masse et la terre#\n",
    "circle1 = plt.Circle((0, 0), 0.3, color=\"red\", label=\"Centre de masse\")\n",
    "circle2 = plt.Circle((0,-3.9), 0.2, color=\"blue\", label=\"Terre (Observateur)\")\n",
    " \n",
    "#Initialisation de la figure#\n",
    "fig= plt.figure(\"Representation de l'exoplanète hd189533b ayant une periode de rotation de 2,2 jours terrestres\", facecolor=\"white\")\n",
    "fig.set_dpi(95)\n",
    "fig.set_size_inches(50, 50)\n",
    "ax=plt.axes(xlim=(-4, 4), ylim=(-4, 4))\n",
    "plt.axis('equal')#Garder l'echelle de la figure si la taille de la fenetre est modifiée#\n",
    "plt.axis('off')#Effacement des axes\n",
    "manager = plt.get_current_fig_manager()\n",
    "manager.resize(*manager.window.maxsize())#Ouverture de la fenetre en Taille grande#\n",
    "\n",
    "\n",
    "\n",
    "ax.add_artist(circle1)\n",
    "ax.add_artist(circle2)\n",
    "\n",
    "#Theta pour le tracage des orbites#\n",
    "theta = np.linspace(0, 2*np.pi, 60)\n",
    "\n",
    "#Orbite1#\n",
    "x1 =  3* np.cos(theta)\n",
    "y1 = 3* np.sin(theta)\n",
    "#Orbite2#\n",
    "x2 = np.cos(theta)\n",
    "y2 = np.sin(theta)\n",
    "\n",
    "#Affichage des orbites#\n",
    "plt.plot(x1,y1,x2,y2,color=\"black\")\n",
    "\n",
    "#Affichage de la ligne de visée#\n",
    "plt.plot([0.19,0.19],[-4,4], color=\"green\")\n",
    "plt.plot([-0.21,-0.21],[-4,4], color=\"green\")\n",
    "\n",
    "#Affichage de la distance Terre- Exoplanete dans une legende differente#\n",
    "distance= plt.arrow(0,-3.7,0,0.6, head_width= 0.05, head_length= 0.1, fc='m', ec='m', label=\"(fleche) 60 AL = distance Terre/Exoplanete\")\n",
    "first_legend = plt.legend(handles=[distance], loc=\"lower left\")\n",
    "ax.add_artist(first_legend)#Ajout d'une premiere légende afin d'avoir deux zones de légendes différentes\n",
    "\n",
    "#Variables definnisant le centre du soleil et de l'exoplanète\n",
    "xcenter = 0\n",
    "ycenter = 0\n",
    "\n",
    "#Variables de l'exoplanète#                  \n",
    "size = 0.1\n",
    "radius = 3\n",
    "\n",
    "\n",
    "#Variables du Soleil#\n",
    "size2 = 0.3\n",
    "radius2=1\n",
    "\n",
    "#Creation des Patchs#\n",
    "patch = plt.Circle((5,-5), size, fc='black', label=\"Exoplanete (hd189533b)\")\n",
    "patch2 = plt.Circle((0, -2), size2, fc='yellow', label=\"Soleil\")\n",
    "patch3=plt.arrow(0,3,1, 0, head_width=0.05, head_length=0.1, fc=\"purple\", ec=\"purple\", label=\"(fleche) sens de l'exoplanete\")\n",
    "patch4=plt.arrow(0,1,1,0, head_width=0.05, head_length=0.1, fc=\"orange\", ec=\"orange\", label=\"(fleche) sens du Soleil \")\n",
    "\n",
    "#Fonction qui initialise l'animation#\n",
    "def init():\n",
    "    patch.center = (xcenter, ycenter)\n",
    "    patch2.center = (xcenter, ycenter)\n",
    "    ax.add_patch(patch)\n",
    "    ax.add_patch(patch2)\n",
    "\n",
    "\n",
    "    return patch, patch2,patch3,patch4,\n",
    "\n",
    "#Fonction qui anime le Soleil et l'exoplanète#\n",
    "def animate(t):\n",
    "    #Exoplanete#\n",
    "    x,y = patch.center\n",
    "    x = xcenter + radius * np.cos(np.radians(t))\n",
    "    y = ycenter  - radius * np.sin(np.radians(t))\n",
    "    patch.center = (x,y)\n",
    "    \n",
    "    #Soleil#\n",
    "    x,y = patch2.center\n",
    "    x = xcenter - radius2 * np.cos(np.radians(t))\n",
    "    y = -(ycenter - radius2 * np.sin(np.radians(t)))\n",
    "    patch2.center= (x,y)\n",
    "    \n",
    "    return patch, patch2,\n",
    "\n",
    "\n",
    "#Affichage de la lègende en boite au dessus de la figure#\n",
    "\n",
    "plt.legend(bbox_to_anchor=(0., 1.02, 1., .102), loc=1,ncol=2, mode=\"expand\", borderaxespad=0, handles=[circle1, patch, patch2, circle2, patch3, patch4])\n",
    "\n",
    "#Appel de la fonction animation#\n",
    "anim = animation.FuncAnimation(fig, animate, init_func=init, frames=1000000, interval=42, blit=True)\n",
    "\n",
    "#Affichage final#\n",
    "\n",
    "plt.show()"
   ]
  },
  {
   "cell_type": "markdown",
   "metadata": {},
   "source": [
    "Ce code nous permet d'afficher un centre de masse fixe, une étoile et une exoplanète orbitant chacune sur leur propre orbite, une terre représentant l'observateur (nous) ainsi que sa ligne de visée.\n",
    "\n",
    "Vu que nous nous sommes basés sur les données de l’exoplanète HD 189733b le temps d'un tour complet de la planète équivaut a 2,2 jours terrestres. De plus la distance entre la Terre et la planète n'est pas a l'échelle dans un soucis de representation."
   ]
  },
  {
   "cell_type": "markdown",
   "metadata": {},
   "source": [
    "# Conclusion :\n",
    "\n",
    "Ainsi, nous avons montrer tout au long de notre exposé comment détecte-on une exoplanète. Nous y avons détaillé les deux principales techniques ; celle du transit et de la détection par vitesses radiales. L'univers est vaste et remplis de milliards de fois de plus d'autres mystères que d’exoplanètes qu'il contient. Nous terminons sur une citation d'Alphred Tennyson :\n",
    "\n",
    "« Aussi loin que je puisse voir dans le Futur, aussi loin que l'oeil humain puisse voir; vois la vision du monde et toutes les merveilles qui s'y trouvent » \n"
   ]
  },
  {
   "cell_type": "markdown",
   "metadata": {},
   "source": [
    "# V) Sources :\n",
    "\n",
    " - http://system.solaire.free.fr/exoplanete5.jpg (image de page de garde)\n",
    " - http://www.futura-sciences.com/sciences/definitions/astronomie-methode-transit-planetaire-12282/  (image d'illustration du transit)\n",
    " - http://www.futura-sciences.com/sciences/definitions/astronomie-methode-vitesses-radiales-12280/ (illustration vitesse radiale)\n",
    " - http://astronomie-smartsmur.over-blog.com/article-v-2-l-effet-doppler-105461983.html (décalage Doppler)\n",
    " - https://fr.wikipedia.org/wiki/Vitesse_radiale (page Wikipédia de la Vitesse radiale)\n",
    " - https://fr.wikipedia.org/wiki/Transit_astronomique (page Wikipédia du transit)\n",
    " - Article de François Bouchy : Détection des exoplanètes par mesures de vitesse radiales.\n",
    "\n",
    "Exercices :\n",
    " - http://fr.euhou.net/index.php/exercices-mainmenu-13/lyce-mainmenu-174/121-de-leffet-doppler-fizeau-aux-exoplantes (vitesse radiale)\n",
    " - http://fr.euhou.net/index.php/exercices-mainmenu-13/lyce-mainmenu-174/127-dtection-dune-exoplante-par-la-mthode-de-transit (transit)\n"
   ]
  },
  {
   "cell_type": "code",
   "execution_count": null,
   "metadata": {
    "collapsed": true
   },
   "outputs": [],
   "source": []
  }
 ],
 "metadata": {
  "kernelspec": {
   "display_name": "Python 3",
   "language": "python",
   "name": "python3"
  },
  "language_info": {
   "codemirror_mode": {
    "name": "ipython",
    "version": 3
   },
   "file_extension": ".py",
   "mimetype": "text/x-python",
   "name": "python",
   "nbconvert_exporter": "python",
   "pygments_lexer": "ipython3",
   "version": "3.4.1"
  }
 },
 "nbformat": 4,
 "nbformat_minor": 0
}
