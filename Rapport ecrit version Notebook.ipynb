{
 "cells": [
  {
   "cell_type": "markdown",
   "metadata": {},
   "source": [
    "CARTON Lorris\n",
    "\n",
    "ARROUS Clément\n",
    "\n",
    "BOUKHALFI Mourad\n",
    "\n",
    "# ARE GRAVITE\n",
    "\n",
    "# DETECTION D'EXOPLANETE : LES METHODE DE DETECTION PAR VITESSE RADIALE ET DU TRANSIT.\n",
    "\n",
    "![image page de garde](http://system.solaire.free.fr/exoplanete5.jpg)\n"
   ]
  },
  {
   "cell_type": "markdown",
   "metadata": {},
   "source": [
    "\n",
    "## Sommaire\n",
    "- Introduction\n",
    "- I) Organisation des systèmes stellaires\n",
    "- III) Le transit\n",
    "- IV) Code Informatique\n",
    "- V) Sources"
   ]
  },
  {
   "cell_type": "markdown",
   "metadata": {},
   "source": [
    "# INTRODUCTION :\n",
    "\n",
    "   Tout au long de cet atelier de recherche, nous avons réalisé un travail sur les méthodes de détection d’exoplanètes. Dans un premier temps, nous avons commencé par nous renseigner sur le sujet grâce à l'article de François Bouchy. \n",
    "\n",
    "   Aujourd’hui, la détection d’exoplanète est un secteur en plein essor. En effet, en 2005, les scientifiques avaient détectés 170 planètes extrasolaires contre 3605 le 22 mars 2017. On voit que l'explosion du nombre d’exoplanètes détectées a explosé dû à l’amélioration et à la précision des techniques. Ainsi, nous avons découvert qu'il existe principalement deux méthodes pour détecter une exoplanète : les vitesses radiales et le transit.\n",
    "\n",
    "   Au cours de cet ARE, nous avons put nous servir de différents outils pour réaliser des mesures tel que salsaJ. Nous avons, de plus, travaillé sur l'élaboration d'un code en python afin de simuler un système étoile-exoplanète.\n",
    "\n",
    "   Nous allons chercher à étudier le cas d'une exoplanète isolée avec son étoile afin de simplifier les explications et les résultats en tentant de répondre à la problématique suivante : **_Comment détecte-t-on une exoplanète ?_**\n",
    "   \n",
    "Nous parlerons dans un premier temps de l'organisation des systèmes exoplanète-étoile et nous fixerons les grandeurs importantes, ensuite nous parleront de la méthode de détection par vitesse radiale puis enfin, nous aborderont le thème du transit."
   ]
  },
  {
   "cell_type": "markdown",
   "metadata": {},
   "source": [
    "# I) Organisation des systèmes stellaires :\n",
    "\n",
    "Tout système stellaire est régit par les lois de Newton et de Kepler. D'après la troisième lois de Newton, la planète et l'étoile subissent des interaction opposées de même force. L'étoile et la planète interagissent entre elle ce qui va engendré un déplacement de l'étoile. Le centre de masse correspond au centre de gravité du système. C'est autour de ce point que tourne l'exoplanète et l'étoile.\n",
    "\n",
    "(Voir rapport ecrit version open office pour le schema)\n",
    "\n"
   ]
  },
  {
   "cell_type": "markdown",
   "metadata": {},
   "source": [
    "Plusieurs grandeurs interviennent dans les équations régissant ces mouvements :\n",
    "\n",
    "- La distance planète -> centre de masse,\n",
    "- La masse de la planète\n",
    "- La masse de l'étoile \n",
    "- Les forces (Force étoile/exoplanète et Force exoplanète/étoile)."
   ]
  },
  {
   "cell_type": "markdown",
   "metadata": {},
   "source": [
    "# III) Le Transit.\n",
    " \n",
    "Dans cette partie nous chercherons a vous expliquer commet fonctionne cette méthode du transit (a travers une exercice du site fr.euhou.net et de salsaJ).\n",
    "\n",
    "Le transit est un phénomène observable depuis la terre. Cette technique nous permet d'obtenir le diamètre et le volume de la planète. Couplé à la technique des vitesses radiales, on peut obtenir sa masse et sa densité. Ici, nous chercherons seulement a détecter une exoplanète grâce a cette méthode. Pour cela il faut relever l'intensité lumineuse d'une étoile au cours du temps.\n",
    "\n",
    "![transit](http://aim.obspm.fr/Astro/Rastro/TP/TP04/images/transit_planet.jpg)"
   ]
  },
  {
   "cell_type": "markdown",
   "metadata": {},
   "source": [
    "Suite au travail de mesure sur salsaJ, nous avons obtenus les résultats suivants. Ces résultats ont été calculées suite a la  normalisation autour de zéro des valeurs des intensités de chaque étoile pour obtenir une échelle identique. Cette normalisation consiste à calculer la moyenne de l'intensité lumineuse pour chaque étoile et ensuite effectuer la différence entre la valeur mesurée de l'intensité et la valeur moyenne de la série. Cette méthode est utilisée pour les étoiles 2 et 3. La valeur moyenne de la série de l'étoile 1 est calculée avec les 7 premières valeurs de l'intensité car cette dernière varie énormément au cours du temps alors que dans le cas des étoiles 2 et 3 l'intensité est plutôt stable. "
   ]
  },
  {
   "cell_type": "markdown",
   "metadata": {},
   "source": [
    "Étoile 1(bleue) | Étoile 2 (rouge)| Étoile 3 (verte)\n",
    "  ------------- | -------------   | -------------\n",
    " 312,45  | 23,4    | 60.05\n",
    "  188,45  | 21,4    | -26,95\n",
    " 345,45  | 36,4   | -22,95\n",
    "  259,45  | -54,6    | 93,05\n",
    " -16,55  | -131,6    | -38,95\n",
    "  35,45  | 60,4    | 105,05\n",
    "  350,45  | -87,6   | 24,05\n",
    " 384,45  | -154,6    | 333,05\n",
    "  -131,55 | -32,6    | -114,95\n",
    "  -530,55  | -37,6   | -74,95\n",
    "  -546,55  | 145,4    | -76,95\n",
    "  -525,55  | 25,4   | -23,95\n",
    "  -452,55  | -19,6    | 53,05\n",
    "  -489,55  | -82,6    | 33,05\n",
    "  -186,55  | 78,4    | 45,05\n",
    "  159,45  | 83,4    | -127,95\n",
    "  87,45  | -102,6    | -11,95\n",
    "  223,45  | 62,4    | -272,95\n",
    "  197,45  | 87,4    | -236,95\n",
    "  335,45  | 49,4    | 283,05"
   ]
  },
  {
   "cell_type": "markdown",
   "metadata": {},
   "source": [
    "L'objectif étant de construire un graphique a partir de ces valeurs afin de déduire visuellement quelle est l'étoile\n",
    "dont l'intensité a une plus forte variation.\n",
    "\n",
    "(Voir rapport écrit version open office pour le graphique)\n",
    "\n",
    "On constate que l'une des planètes perd énormément de luminosité par rapport aux autres. C'est dut au passage d'une planète devant son étoile qui fait chuter la luminosité que l'on perçoit depuis la terre. Cette technique nous permet donc de dire si il existe une planète qui orbite autours d'une étoile. L'inverse n'étant pas vrai. Il faut en effet avoir un peu de chance pour avoir une planète dont le plan de son orbite est parfaitement aligné notre ligne de visée, ce qui nous permet d'observer et de mesurer un transit."
   ]
  },
  {
   "cell_type": "markdown",
   "metadata": {},
   "source": [
    "# IV) Code Informatique\n",
    "\n",
    "Nous avons donc également réalisé un code informatique en python afin de simuler un système étoile-exoplanète. Nous avons choisis de représenter le système de l’exoplanète HD 189733b ayant une période de 2,2 jours terrestres et se situant a 60 Années Lumières de notre planète.\n",
    "\n",
    "Inserer ici Screen et explications code "
   ]
  },
  {
   "cell_type": "markdown",
   "metadata": {},
   "source": [
    "# V) Sources :\n",
    "http://system.solaire.free.fr/exoplanete5.jpg (image de page de garde)\n",
    "\n",
    "http://aim.obspm.fr/Astro/Rastro/TP/TP04/images/transit_planet.jpg  (image d'illustration du transit)\n",
    "\n",
    "https://fr.wikipedia.org/wiki/Vitesse_radiale (page Wikipédia de la Vitesse radiale)\n",
    "\n",
    "https://fr.wikipedia.org/wiki/Transit_astronomique (page wikipédia du transit)"
   ]
  },
  {
   "cell_type": "code",
   "execution_count": null,
   "metadata": {
    "collapsed": true
   },
   "outputs": [],
   "source": []
  }
 ],
 "metadata": {
  "kernelspec": {
   "display_name": "Python 3",
   "language": "python",
   "name": "python3"
  },
  "language_info": {
   "codemirror_mode": {
    "name": "ipython",
    "version": 3
   },
   "file_extension": ".py",
   "mimetype": "text/x-python",
   "name": "python",
   "nbconvert_exporter": "python",
   "pygments_lexer": "ipython3",
   "version": "3.4.1"
  }
 },
 "nbformat": 4,
 "nbformat_minor": 0
}
