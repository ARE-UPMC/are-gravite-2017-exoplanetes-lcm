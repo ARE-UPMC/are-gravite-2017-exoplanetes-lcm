{
 "cells": [
  {
   "cell_type": "markdown",
   "metadata": {},
   "source": [
    "# DETECTION DES EXOPLANETES\n",
    "\n",
    "## Etudiants : ARROUS Clément, BOUKALFI Mourad, CARTON Lorris\n",
    "\n",
    "### Semaine 1\n",
    "\n",
    "Dans un premier temps nous avons repartis les tâches :\n",
    "\n",
    "   **ARROUS _Clément_** : recherches en physique, d'informations, éclaircissement des notions.\n",
    "   \n",
    "   **BOUKHALFI _Mourad_** : Informatique (representation système solaire)\n",
    "   \n",
    "   **CARTON _Lorris_**: Rédaction du notebook, corrections.\n",
    "    \n",
    "    \n",
    "   Nous avons déja collecté plusieurs informations sur la thèse de François Bouchy issu du Tutoriel numéro 1,\n",
    "    par exemple :\n",
    "   - **170** exoplanetes en **2005** et aujourd'hui *3540* en septembre **2016** (_source : wikipedia_)\n",
    "   - Méthode de detection des **vitesses radiales** (_methode de spectroscopie_) : permet de mesurer la **vitesse relative** par rapport a notre système des objets.\n",
    "    - Le satellite **_HARPS_** utilise cette méthode\n",
    "    -Observation de **l'effet Doppler** sur le spectre de l'étoile\n",
    "    -Méthode _directe_ d'observation est **impossible** due au rayonnement stellaire superieur et distance etoile-planete relativement faible par rapport a nous.\n",
    "    - Autre méthode : **indirecte** via la **_perturbation gravitationnelle_** induite par la planète sur l'étoile. la planète tourne alors autour du centre de masse de facon periodique. indication de presence d'un ou plusieurs corps.\n",
    "    - par **vitesses radiales** :\n",
    "                             - centre de masse\n",
    "                             - excentricité\n",
    "                             - période orbitale\n",
    "                             - demi grand axe\n",
    "                             - masse etoile et planète\n",
    "                             - inclinaison plan orbite par rapport a la voute céleste\n",
    "    La vitesse de l'etoile depend de ces grandeurs\n",
    "    - les relations de _kepler_ et de _newton_ permettent de mettre en lien toutes ces valeures\n",
    "    - La méthode est plus efficace si la planète est **massive** et si l'étoile a une **masse faible**\n",
    "    - Le spectre de l'etoile contient des raies d'absorbtion, leur position _varie en fonction du déplacement de l'étoile_ par rapport a nous (_effet Doppler_). Si l'étoile s'éloigne la longeur d'onde se decalera vers le **rouge** et vers le **bleu** si elle se rapproche.\n",
    "    -Méthode plus efficace si il y a de nombreuses raies, permettant d'avoir une _moyenne statistique_ plus satisfaisante et de réduire l'_incertitude_\n",
    "    - _Technique complémentaire_ : **mesure du transit** : baisse de luminosité de l'étoile lorsque la planète passe devant celle-ci, cette méthode permet d'estimer le **_rayon_** de la planète mais pas sa masse. La vitesse radiale permettra a l'aide du transit d'obtenir la masse.\n",
    "    \n",
    "     Pour l'informatique, de nombreux efforts vont être néccesaires due a une arrivée en second semestre de deux membres du groupes\n",
    "    \n",
    "   Pour la semaine prochaine nous devrons avoir finaliser le **plan du podcast** et avoir peut être un premier rendu du code d'un systeme solaire simple. Ainsi que commencer a se former a **salsaJ** et prendre connaissance des sites **eu-hou.** Nous devrons aussi terminer les recherches entamées"
   ]
  },
  {
   "cell_type": "markdown",
   "metadata": {},
   "source": [
    "### Semaine 2\n",
    "\n",
    "L'objectif de cette semaine est de tenter de finaliser le programme informatique entamé durant la séance du Lundi, autrement dit, réusir à faire déplacer la planète le long de l'orbite en fonction du temps.\n",
    "    \"Pour la partie physique les objectifs sont identiques à ceux de la première semaine,c'est à dire de finaliser le **plan du podcast** et réalisé d'avantage de recherches.\n",
    "    plan du podcast: Détections d'exoplanètes\n",
    "    \n",
    "    I)METHODE DE DETECTION PAR VITESSES RADIALES\n",
    "    \n",
    "      a)la methode\n",
    "     \n",
    "      b)les mesures effectuées par cette methode\n",
    "     \n",
    "    II)LE TRANSIT\n",
    "     \n",
    "      a)la methode\n",
    "      \n",
    "      b)les mesures effectuées par cette methode\n",
    "      \n",
    "**VOIR FICHIER DU PROGRAMME** "
   ]
  },
  {
   "cell_type": "markdown",
   "metadata": {},
   "source": [
    "### Semaine 3\n",
    "\n",
    "debut du script pour le podcast\n",
    "\n",
    "*__INTRODUCTION__* :\n",
    "\n",
    "En **2005**, **170 planètes extrasolaires** ont été découvertes par vitesse radiale. Aujourd’hui, Au** 23 janvier 2016, 1 935 exoplanètes ont été confirmées**. Il est très _difficile_ d'observer une planète extra solaire directement. Le rayonnement indirect de la planète est faible comparé au rayonnement direct de son étoile, avec les distances interstellaires, nos télescopes sont éblouis par le rayonnement de l'étoile. De plus ces exo planètes sont souvent trop petites et trop proches de leur étoile pour pouvoir être observées directement. Par conséquent, la majorité des exo planètes sont détectées en utilisant des méthodes indirectes, telle la **spectroscopie Doppler** et la méthode de détection par **vitesses radiales**. Presque toutes les planètes extra solaires connues à ce jour ont été **découvertes** ou confirmées **grâce à cette méthode**. Tout à long de notre exposé nous tenterons de vous expliquer **_quelles sont les principales méthodes de détections d’exoplanetes**_. Dans un premier temps nous étudierons la méthode de détection d’exoplanete par la méthode de la vitesse radiale et ensuite nous parlerons de la méthode de détection d’exo planètes par le transit.\n",
    "\n",
    "**_I)\tLES VITESSES RADIALES._**\n",
    "\n",
    "La **méthode des vitesses radiales**, également appelée **spectroscopie Doppler**, est une méthode spectroscopique utilisée pour *mesurer la vitesse relative d'objets par rapport au soleil*. Elle complète les mesures astrométriques (dans le plan du ciel) en donnant la vitesse relative de l’objet.\n",
    "Aujourd'hui, cette technique est utilisée dans la recherche d'exoplanètes, où la précision de cette technique est poussée à l'extrême : la précision aujourd'hui atteinte est de l'ordre du **mètre par seconde**, voir moins, pour des instruments tels que **HARPS**. Elle implique l'observation de l'effet Doppler-Fizeau dans le spectre de l'étoile autour de laquelle une planète orbite.\n",
    "Il est extrêmement difficile d'observer une planète extra solaire directement. Le **rayonnement indirect** de la planète est très faible, comparé au rayonnement de son étoile, avec les distances interstellaires, nos télescopes sont _aveuglés_ par le rayonnement de l'étoile. De plus ces exoplanètes sont souvent **trop petites** et **trop proches** de leur étoile pour pouvoir être observées directement. En conséquence, la majorité des exoplanètes sont détectées en utilisant des _méthodes indirectes_, telle la **spectroscopie Doppler**. Presque toutes les planètes extra solaires connues à ce jour ont été découvertes ou confirmées grâce à cette méthode.\n",
    "Les deux corps _tournent autour de leur **Centre de Masse**_ de façon _périodique_. Le mouvement périodique de l’étoile (position ou vitesse radiale) sera une indication de la **présence d’un (ou plusieurs) autres corps** *orbitant également autour d’un même centre de masse*.\n",
    "\n",
    "**_Les grandeurs physiques qui interviennent dans la vitesse radiale sont :_**\n",
    "**centre de masse** = _foyer de l’ellipse_, **excentricité (e)**, **période orbitale (P)**, **demi-grand axe (a)**, **masse de l’étoile (M) et de la planète (m)**. L’_inclinaison du plan de l’orbite par rapport à la **voûte céleste (i).**_ \n",
    "La **vitesse linéaire V** de l’étoile _dépend de ces grandeurs_. On peut projeter cette vitesse sur la **ligne de visée (observateur-étoile)** pour trouver la _vitesse radiale_. La relation de **Képler** et les lois de**Newton** permettent de trouver des liens entre toutes ces grandeurs. \n",
    "Ainsi, en ajustant les courbes représentant la _vitesse en fonction du temps_, on peut déterminer la **période**, la **vitesse du Centre de Masse**, et par suite la** masse du compagnon**. Cette estimation **dépend toujours de l’angle i… **\n",
    "Cette méthode est _plus sensible pour des planètes massives_, _proches de leur étoile_ et avec des étoiles de _faible masse_. Ces trois facteurs vont en effet dans le sens d’une plus grande influence de la planète sur le mouvement de l’étoile.\n",
    "\n",
    " Le spectre d’une étoile contient des **raies d’absorption**. Leur position, observée en longueur d’onde dans le spectre obtenu sur Terre, peut être **décalée** par rapport à leur position dans le spectre émis par l’étoile. Ce décalage est **relié à la longueur d’onde** au repos de la raie et à la vitesse radiale de l’étoile. Si l’étoile s’**éloigne** de l’observateur (vitesse _positive_), la **longueur d’onde** observée sera plus**grande** que la longueur d’onde au** repos**. On parle alors d’un «** décalage vers le rouge** ». Si l’étoile se **rapproche** de l’observateur (vitesse _négative_), la longueur d’onde observée sera plus **petite** que la longueur d’onde au **repos**. On parle alors d’un « **décalage vers le bleu** ». \n",
    "Cette méthode est _plus efficace_ s’il y a **beaucoup de raies**, car cela permet d’avoir une plus **grande statistique**, et donc de **réduire les incertitudes**. \n",
    "La relation illustre les _difficultés de mesure_ dues à des vitesses liées au spectrographe et à la Terre, et donc non reliées à la vitesse de l’étoile. \n",
    "L’étude de ces éléments permet d’_estimer l’incertitude_ de mesure associée à cette méthode.\n",
    "\n",
    "\n",
    "**_II)\t LE TRANSIT._**\n",
    "\n",
    "**Baisse de luminosité** de l’étoile lorsque la planète passe devant son disque. \n",
    "Cette méthode permet de donner une **estimation du rayon de la planète**, _mais pas de sa masse_. Il faut que l’angle i soit proche de 90°. \n",
    "Le suivi en vitesse radiale permet d’améliorer l’analyse du suivi du transit, et d’obtenir la masse du compagnon.\n"
   ]
  },
  {
   "cell_type": "code",
   "execution_count": null,
   "metadata": {
    "collapsed": true
   },
   "outputs": [],
   "source": []
  }
 ],
 "metadata": {
  "kernelspec": {
   "display_name": "Python 3",
   "language": "python",
   "name": "python3"
  },
  "language_info": {
   "codemirror_mode": {
    "name": "ipython",
    "version": 3
   },
   "file_extension": ".py",
   "mimetype": "text/x-python",
   "name": "python",
   "nbconvert_exporter": "python",
   "pygments_lexer": "ipython3",
   "version": "3.4.1"
  }
 },
 "nbformat": 4,
 "nbformat_minor": 0
}

