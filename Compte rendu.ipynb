{
 "cells": [
  {
   "cell_type": "markdown",
   "metadata": {},
   "source": [
    "# DETECTION DES EXOPLANETES\n",
    "## Etudiants: ARROUS Clément, BOUKHALFI Mourad, CARTON Lorris\n"
   ]
  },
  {
   "cell_type": "markdown",
   "metadata": {},
   "source": [
    "### Semaine 1\n",
    "Dans un premier temps nous avons repartis les tâches :\n",
    "- **ARROUS _Clément_** : recherches en physique, d'informations, éclaircissement des notions.\n",
    "- **BOUKHALFI _Mourad_** : Informatique (representation système solaire)\n",
    "- **CARTON _Lorris_**: Rédaction du notebook, corrections.\n",
    "\n",
    "Nous avons déja collecté plusieurs informations sur la thèse de François Bouchy issu du Tutoriel numéro 1\n",
    "par exemple :\n",
    "- **170** exoplanetes en **2005** et aujourd'hui **3540** en septembre **2016** (_source : wikipedia_)\n",
    "- Méthode de detection des **vitesses radiales** (_methode de spectroscopie_) : permet de mesurer la **vitesse relative** par rapport a notre système des objets.\n",
    "- Le satellite **_HARPS_** utilise cette méthode\n",
    "-Observation de **l'effet Doppler** sur le spectre de l'étoile\n",
    "-Méthode _directe_ d'observation est **impossible** due au rayonnement stellaire superieur et distance etoile-planete relativement faible par rapport a nous.\n",
    "- Autre méthode : **indirecte** via la **_perturbation gravitationnelle_** induite par la planète sur l'étoile. la planète tourne alors autour du centre de masse de facon periodique. indication de presence d'un ou plusieurs corps.\n",
    "- par **vitesses radiales** :\n",
    "                         - centre de masse\n",
    "                         - excentricité\n",
    "                         - période orbitale\n",
    "                         - demi grand axe\n",
    "                         - masse etoile et planète\n",
    "                         - inclinaison plan orbite par rapport a la voute céleste\n",
    " La vitesse de l'etoile depend de ces grandeurs\n",
    "- les relations de _kepler_ et de _newton_ permettent de mettre en lien toutes ces valeures\n",
    "- La méthode est plus efficace si la planète est **massive** et si l'étoile a une **masse faible**\n",
    "- Le spectre de l'etoile contient des raies d'absorbtion, leur position _varie en fonction du déplacement de l'étoile_ par rapport a nous (_effet Doppler_). Si l'étoile s'éloigne la longeur d'onde se decalera vers le **rouge** et vers le **bleu** si elle se rapproche.\n",
    "-Méthode plus efficace si il y a de nombreuses raies, permettant d'avoir une _moyenne statistique_ plus satisfaisante et de réduire l'_incertitude_.\n",
    "- _Technique complémentaire_ : **mesure du transit** : baisse de luminosité de l'étoile lorsque la planète passe devant celle-ci, cette méthode permet d'estimer le **_rayon_** de la planète mais pas sa masse. La vitesse radiale permettra a l'aide du transit d'obtenir la masse.\n",
    "\n",
    "\n",
    "Pour l'informatique, de nombreux efforts vont être néccesaires due a une arrivée en second semestre de deux membres du groupes\n",
    "\n",
    "Pour la semaine prochaine nous devrons avoir finaliser le **plan du podcast** et avoir peut être un premier rendu du code d'un systeme solaire simple. Ainsi que commencer a se former a **salsaJ** et prendre connaissance des sites **eu-hou.**\nNous devrons aussi terminer les recherches entamées",
    "\n",
    "\n",
    "### Semaine 2\n",
    "L'objectif de cette semaine est de tenter de finaliser le programme informatique entamé durant la séance du Lundi, autrement dit, réusir à faire déplacer la planète le long de l'orbite en fonction du temps.\n",
    "Pour la partie physique les objectifs sont identiques à ceux de la première semaine,c'est à dire de finaliser le **plan du podcast** et réalisé d'avantage de recherches.\n"
    "plan du podcast: Détections d'exoplanètes\nI)
    "**VOIR FICHIER 'DEBUT DU PROGRAMME'**\n", 
    "### Semaine 3\n",
    "Bla Bla\n",
    "### Semaine 4\n",
    "Bla Bla"
   ]
  },
  {
   "cell_type": "code",
   "execution_count": null,
   "metadata": {
    "collapsed": true
   },
   "outputs": [],
   "source": []
  }
 ],
 "metadata": {
  "kernelspec": {
   "display_name": "Python 3",
   "language": "python",
   "name": "python3"
  },
  "language_info": {
   "codemirror_mode": {
    "name": "ipython",
    "version": 3
   },
   "file_extension": ".py",
   "mimetype": "text/x-python",
   "name": "python",
   "nbconvert_exporter": "python",
   "pygments_lexer": "ipython3",
   "version": "3.4.1"
  }
 },
 "nbformat": 4,
 "nbformat_minor": 2
}
